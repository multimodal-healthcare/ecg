{
 "cells": [
  {
   "cell_type": "code",
   "execution_count": 71,
   "metadata": {},
   "outputs": [],
   "source": [
    "import torch\n",
    "import torch.nn.functional as F\n",
    "import torch.nn as nn\n",
    "from torch.utils.data import Dataset, DataLoader\n",
    "\n",
    "from pathlib import Path\n",
    "import pytorch_lightning as pl\n",
    "import ast\n",
    "import pandas as pd"
   ]
  },
  {
   "cell_type": "code",
   "execution_count": 72,
   "metadata": {},
   "outputs": [],
   "source": [
    "project_path = Path.cwd()\n",
    "test_csv_path = project_path/'data/coherent/csv/test_ecg.csv'\n",
    "mitdb_pretrained_weight = project_path/'weights/trained_weight_mitdb.pth'\n",
    "trained_weight_path = project_path/'weights/epoch=70-step=710.ckpt'"
   ]
  },
  {
   "cell_type": "code",
   "execution_count": 73,
   "metadata": {},
   "outputs": [],
   "source": [
    "class TestECGDataset(Dataset):\n",
    "\n",
    "    def __init__(self, csv_path: Path) -> None:\n",
    "        self.df = pd.read_csv(csv_path)\n",
    "\n",
    "    def __getitem__(self, patient_id):\n",
    "        \"\"\"\n",
    "        Return torch Tensor of a patient's ECG signal and his/her label\n",
    "        \"\"\"\n",
    "        patient_rows = self.df[self.df['patient']==patient_id]\n",
    "        ecg_str = patient_rows['value']\n",
    "        patient_ecg = []\n",
    "        for ecg in ecg_str:\n",
    "            patient_ecg.append([float(x) for x in ecg.split()])\n",
    "        patient_ecg = torch.Tensor(patient_ecg)\n",
    "\n",
    "        return torch.unsqueeze(patient_ecg, dim=1)\n",
    "\n",
    "    def __len__(self):\n",
    "        return len(self.ecg)\n",
    "\n",
    "test_dataset = TestECGDataset(test_csv_path)"
   ]
  },
  {
   "cell_type": "code",
   "execution_count": 74,
   "metadata": {},
   "outputs": [
    {
     "data": {
      "text/plain": [
       "torch.Size([3, 1, 401])"
      ]
     },
     "execution_count": 74,
     "metadata": {},
     "output_type": "execute_result"
    }
   ],
   "source": [
    "patient_id = 'b1ba081a-6299-6beb-5b72-582cd986697e'\n",
    "patient_ecg = test_dataset[patient_id]\n",
    "patient_ecg.shape"
   ]
  },
  {
   "cell_type": "code",
   "execution_count": 75,
   "metadata": {},
   "outputs": [],
   "source": [
    "class ECGModel(pl.LightningModule):\n",
    "    def __init__(self, pretrained_weight_path: Path, lr=0.001):\n",
    "        super().__init__()\n",
    "        self.lr = lr\n",
    "        # load the pretrained model on the MIT-BIH dataset\n",
    "        self.conv1 = nn.Conv1d(1, 16, 7, padding=3)  # [bz, 16, 401]\n",
    "        self.relu1 = nn.LeakyReLU()\n",
    "        self.pool1 = nn.MaxPool1d(2)  # [bz, 16, 200]\n",
    "        self.conv2 = nn.Conv1d(16, 16, 5, padding=2)  # [bz, 16, 200]\n",
    "        self.relu2 = nn.LeakyReLU()\n",
    "        self.pool2 = nn.MaxPool1d(2)  # [bz, 16, 100]\n",
    "        # self.load_init_weights(pretrained_weight_path)  \n",
    "        self.linear1 = nn.Linear(16*100, 512)\n",
    "        self.relu3 = nn.LeakyReLU()\n",
    "        self.linear2 = nn.Linear(512, 128)\n",
    "        self.relu4 = nn.LeakyReLU()\n",
    "        self.linear3 = nn.Linear(128, 5)\n",
    "\n",
    "    # def load_init_weights(self, init_weight_path: Path):\n",
    "    #     checkpoint = torch.load(init_weight_path)\n",
    "    #     self.conv1.weight.data = checkpoint[\"conv1.weight\"]\n",
    "    #     self.conv1.bias.data = checkpoint[\"conv1.bias\"]\n",
    "    #     self.conv2.weight.data = checkpoint[\"conv2.weight\"]\n",
    "    #     self.conv2.bias.data = checkpoint[\"conv2.bias\"]\n",
    "    \n",
    "    def forward(self, x):\n",
    "        x = self.conv1(x)\n",
    "        x = self.relu1(x)\n",
    "        x = self.pool1(x)\n",
    "        x = self.conv2(x)\n",
    "        x = self.relu2(x)\n",
    "        x = self.pool2(x)\n",
    "        x = x.view(-1, 16*100)\n",
    "        x = self.linear1(x)\n",
    "        x = self.relu3(x)\n",
    "        x = self.linear2(x)\n",
    "        x = self.relu4(x)\n",
    "        x = self.linear3(x)\n",
    "        return x\n",
    "\n",
    "    def training_step(self, batch, batch_idx):\n",
    "        xs, ys = batch\n",
    "        y_hats = self.forward(xs)\n",
    "        loss = F.binary_cross_entropy_with_logits(y_hats, ys)\n",
    "        self.log(\"train_loss\", loss, prog_bar=True, on_epoch=True, on_step=True)\n",
    "        return loss\n",
    "\n",
    "    def validation_step(self, batch, batch_idx):\n",
    "        xs, ys = batch\n",
    "        y_hats = self.forward(xs)\n",
    "        loss = F.binary_cross_entropy_with_logits(y_hats, ys)\n",
    "        self.log(\"val_loss\", loss, prog_bar=True, on_epoch=True, on_step=True)\n",
    "\n",
    "    def configure_optimizers(self):\n",
    "        optimizer = torch.optim.Adam(self.parameters(), lr=self.lr)\n",
    "        return optimizer"
   ]
  },
  {
   "cell_type": "code",
   "execution_count": 76,
   "metadata": {},
   "outputs": [
    {
     "data": {
      "text/plain": [
       "<All keys matched successfully>"
      ]
     },
     "execution_count": 76,
     "metadata": {},
     "output_type": "execute_result"
    }
   ],
   "source": [
    "model = ECGModel(mitdb_pretrained_weight)\n",
    "model.load_state_dict(torch.load(trained_weight_path)['state_dict'])"
   ]
  },
  {
   "cell_type": "code",
   "execution_count": 77,
   "metadata": {},
   "outputs": [
    {
     "data": {
      "text/plain": [
       "tensor([[ 5.5490, -1.5859, -4.3191, -1.1513, -3.2590],\n",
       "        [ 5.3677, -1.5840, -4.2544, -1.1541, -3.1579],\n",
       "        [ 5.5371, -1.5713, -4.3006, -1.1459, -3.2567]],\n",
       "       grad_fn=<AddmmBackward0>)"
      ]
     },
     "execution_count": 77,
     "metadata": {},
     "output_type": "execute_result"
    }
   ],
   "source": [
    "y_hats = model(patient_ecg)\n",
    "y_hats"
   ]
  },
  {
   "cell_type": "code",
   "execution_count": 78,
   "metadata": {},
   "outputs": [
    {
     "data": {
      "text/plain": [
       "tensor([[0.9961, 0.1700, 0.0131, 0.2403, 0.0370],\n",
       "        [0.9954, 0.1702, 0.0140, 0.2397, 0.0408],\n",
       "        [0.9961, 0.1720, 0.0134, 0.2412, 0.0371]], grad_fn=<SigmoidBackward0>)"
      ]
     },
     "execution_count": 78,
     "metadata": {},
     "output_type": "execute_result"
    }
   ],
   "source": [
    "y_hats = torch.sigmoid(y_hats)\n",
    "y_hats"
   ]
  },
  {
   "cell_type": "code",
   "execution_count": 79,
   "metadata": {},
   "outputs": [],
   "source": [
    "mean_y_hats = torch.mean(y_hats, dim=0)\n",
    "pred = [1 if i > 0.5 else 0 for i in mean_y_hats]"
   ]
  },
  {
   "cell_type": "code",
   "execution_count": 80,
   "metadata": {},
   "outputs": [
    {
     "data": {
      "text/plain": [
       "[1, 0, 0, 0, 0]"
      ]
     },
     "execution_count": 80,
     "metadata": {},
     "output_type": "execute_result"
    }
   ],
   "source": [
    "pred"
   ]
  },
  {
   "cell_type": "code",
   "execution_count": null,
   "metadata": {},
   "outputs": [],
   "source": []
  }
 ],
 "metadata": {
  "kernelspec": {
   "display_name": "Python 3.9.13 ('fsdl')",
   "language": "python",
   "name": "python3"
  },
  "language_info": {
   "codemirror_mode": {
    "name": "ipython",
    "version": 3
   },
   "file_extension": ".py",
   "mimetype": "text/x-python",
   "name": "python",
   "nbconvert_exporter": "python",
   "pygments_lexer": "ipython3",
   "version": "3.9.13"
  },
  "orig_nbformat": 4,
  "vscode": {
   "interpreter": {
    "hash": "4cff6e4e34a694cc1f51d6b830ae4497c3d10472f91cc35501aa54f26027b157"
   }
  }
 },
 "nbformat": 4,
 "nbformat_minor": 2
}
